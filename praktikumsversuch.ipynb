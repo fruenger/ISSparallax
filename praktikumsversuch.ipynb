{
 "cells": [
  {
   "cell_type": "markdown",
   "metadata": {},
   "source": [
    "# Praktikumsversuch zum ISS Transit vom 18. August 2023\n",
    "\n",
    "## Zusammenfassung der Beobachtungen\n",
    "Die Internationale Raumstation (ISS) umrundet die Erde in $\\sim 90$ min. Da sie zu einem großen Teil dieser Zeit von der Sonne angestrahlt wird, wirft sie einen Schatten auf die darunterliegende Erde von wo aus wir sie gelegentlich auch beobachten können. Die meiste Zeit befindet sie sich hinter dem Horizont und weit weg vom Beobachter. Allerdings kommt es vor, dass man sie in der Morgen- und Abenddämmerung als hellen, wandernden Lichtpunkt am Himmel sehen kann. Es kommt aber auch vor, dass sie tagsüber über den Himmel zieht. Sie ist dann unauffälliger weil der Himmelshintergrund eine schlechten Konstrast zum Satelliten selbst liefert. Dazu kommt, dass wir am Tag tendenziell die nicht beleuchtete Seite der ISS sehen, wenn sie sich in scheinbarer Nähe der Sonne befindet. In sehr seltenen Fällen kommt es sogar vor, dass die ISS direkt vor der Sonne steht. In diesem Fall kann man sie mit geeigneten Teleskopen (MIT SONNENFILTER!) und entsprechender Vergrößerung sogar direkt beobachten wie sie vor der Sonnenscheibe vorbeitzieht.\n",
    "Ein nützliches Webtool ist der <a href=\"https://transit-finder.com/\">ISS Transit Finder</a>. Hier kann einige Tage und Wochen im Voraus die Position der ISS abgerufen werden und mögliche Transits der Raumstation vor der Sonne oder dem Mond abgefragt werden. Dabei ist zu beoachten, dass die Präzision der Vorhersagen gerade mehrere Wochen in der Zukunft eher ungenau ist, weil die Besatzung der ISS regelmäßig Bahnkorrekturen vornehmen muss damit die Raumstation nicht in der Erdatmosphäre verglüht. Dadruch verändert sich die Bahn ständig und die Vorhersagen müssen regelmäßig erneuert werden.\n",
    "\n",
    "In diesem Beispiel schauen wir uns nun den Transit vom <b>18. August 2023</b> etwas genauer an:\n",
    "\n",
    "An diesem Tag hat die ISS ungefähr zur Mittagszeit die Sonne passiert. Dieser Transit wurde von zwei unterschiedlichen Positionen mit leistungsstarken Spiegelteleskopen beobachtet. In Laufe diese Tutorials werden wir uns unter anderem damit auseinandersetzen wie man:\n",
    "\n",
    "- mithilfe der Programmiersprache $\\texttt{Python}$ astronomische Bilddaten auswerten kann und einige Datenstrukturen kennenlernen,\n",
    "- mithilfe der Daten die Distanz, Größe und Geschwindigkeit der ISS bestimmen kann.\n",
    "\n",
    "Wir beginnen dieses Notebook mit einer sehr kurzen Einführung in Python, diese kann aber auch übersprungen werden, wenn schon Erfahrung mit Python vorhanden ist. Andernsfalls, wenn dieses Tutorial nicht ausführlich genug ist, dann ist es auch hilfreich dedizierte Online-Einführungskurse zu besuchen. (zum Beispiel hier <a href=\"https://www.w3schools.com/python/\"> >> Link zum Tutorial << </a>)\n",
    "\n",
    "Wir beginnen uns nun zunächst auch mit ein paar \"Aufwärmübungen\" bevor es losgeht. Dazu mehr im nächsten Abschnitt."
   ]
  },
  {
   "cell_type": "markdown",
   "metadata": {},
   "source": [
    "## Abschnitt 1: Die Grundlagen der Programmiersprache Python\n",
    "\n",
    "Python ist heutzutage in der (Astro)Physik eine sehr weit verbreitete und häufig genutzte Programmiersprache. Sie zeichnet sich vor allem damit aus, dass die im Vergleich zu anderen sehr leicht zu verstehen ist und daher auch für unseren Fall sehr geeignet ist.\n",
    "\n",
    "### Eingabe und Ausgabe\n",
    "Eines der wichtigsten Konzepte der elektronischen Datenberarbeitung ist das sogenannte **EVA**-Prinzip. Hier bei stehen die einzelnen Buchstaben für _Eingabe_, _Verarbeitung_ und _Ausgabe_. Damit wir geeignet mit unserem Programmen arbeiten können wir wir wissen wie wir uns die Ergebnisse anzeigen lassen können. In Python ist das schnell gemacht. Das __print(...)__ Kommando schreibt alles das was in den runden Klammern steht in die Konsole sodass wir es sheen können. Hier ein Beispiel:"
   ]
  },
  {
   "cell_type": "code",
   "execution_count": null,
   "metadata": {},
   "outputs": [],
   "source": [
    "print(\"Hallo Welt!\")"
   ]
  },
  {
   "cell_type": "markdown",
   "metadata": {},
   "source": [
    "Wir haben also gesehen, dass der obige Code die Wörter _Hallo Welt_ in die Kosole ausgibt. Wie müsste nun der Code aussehen, damit wir nicht Hallo Welt sondern z.B. _Hallo Mars_ ausgeben?"
   ]
  },
  {
   "cell_type": "code",
   "execution_count": null,
   "metadata": {},
   "outputs": [],
   "source": [
    "## Hierunter den code für die Ausgabe von \"Hallo Mars\" hinschreiben\n",
    "...\n",
    "\n",
    "## Andere Beispiele was man noch schreiben kann:\n",
    "print(\"Das ist ein Testtext\")\n",
    "print(1)\n",
    "print(3.14157)"
   ]
  },
  {
   "cell_type": "markdown",
   "metadata": {},
   "source": [
    "Wir haben gesehen, dass Wörter immer in Anführungszeichen gesetzt werden müssen. Diese Strukturen nennt man sogenannte $\\texttt{strings}$. Diese werden uns demnächst noch etwas häufiger begegnen...\n",
    "\n",
    "### Variablen\n",
    "Nun ist es an der Zeit, dass wir uns Variablen anschauen. So wie in der Mathematik ist es oft sinnvoll für komplizierte Rechnungen und deren Ergebnisse sogeannte _Variablen_ zu definieren. Sie machen den Code kürzer, eleganter und vor allem flexibler! Bei variablen ist es so, dass diese grundsätzlich einen _Namen_, einen _Wert_ und einen bsteimmten _Datentyp_ besitzen. Wir definieren sie indem wir uns einen Namen für diese ausdenken und ihnen mithilfe des Gleichheitszeichens einen Wert zuweisen. Es ist allerdings wichtig, dass der Name KEINE Leerzeichen beinhaltet. Dieses ersetzt man üblicherweise mit einen Unterstrich: (**_**)"
   ]
  },
  {
   "cell_type": "code",
   "execution_count": null,
   "metadata": {},
   "outputs": [],
   "source": [
    "# Beispiel für eine Variable:\n",
    "test_variable = \"Das hier ist ein Testtext\"\n",
    "print(test_variable)\n",
    "\n",
    "pi = 3.14157\n",
    "print(pi)"
   ]
  },
  {
   "cell_type": "markdown",
   "metadata": {},
   "source": [
    "## Fundamentale Rechenoperatoren\n",
    "Nun, dass wir Variablen kennengelernt haben, können wir uns mit den Rechenoperationen beschäftigen. In Python gibt es sehr viele davon. Diejenigen, die wir allerdings am häufigsten benutzen müssen sind lediglich eine Hand voll. Darunter beschreibt\n",
    "\n",
    "- __+__ die Addition,\n",
    "- __-__ die Substraktion,\n",
    "- __*__ die Multiplikation,\n",
    "- __/__ die Division und\n",
    "- __**__ das Potenzieren.\n",
    "\n",
    "In der folgenden Zelle können wir die Fläche und den Umfang eines Kreises berechnen mit\n",
    "\n",
    "$U=2\\cdot\\pi\\cdot r$ und $A=\\pi \\cdot r \\cdot r=\\pi \\cdot r^2$"
   ]
  },
  {
   "cell_type": "code",
   "execution_count": null,
   "metadata": {},
   "outputs": [],
   "source": [
    "radius = 1.\n",
    "\n",
    "# Umfang\n",
    "U = 2. * pi * radius\n",
    "\n",
    "# Fläche\n",
    "A = pi * radius**2\n",
    "\n",
    "print(\"Der Kreis mit dem radius\", radius, \"hat den Umfang\", U, \"und die Fläche\", A)"
   ]
  },
  {
   "cell_type": "markdown",
   "metadata": {},
   "source": [
    "### Übung: Einfache Berechnungen\n",
    "Bereichne den Flächeninhalt und das Volumen einer Kugel mit dem radius $r$.\n",
    "Zur Erinnerung, die entsprechenden Formeln lauten:\n",
    "\n",
    "$A=4\\cdot\\pi\\cdot r^2$\n",
    "\n",
    "$V=\\frac{4\\pi}{3}\\cdot r^3$"
   ]
  },
  {
   "cell_type": "code",
   "execution_count": null,
   "metadata": {},
   "outputs": [],
   "source": [
    "radius = ...\n",
    "\n",
    "A = ...\n",
    "V = ...\n",
    "\n",
    "print(\"Eine Kugel mit dem Radius\", radius, \"hat eine Oberflächeninhalt von\", A, \"und ein Volumen\", V)"
   ]
  },
  {
   "cell_type": "markdown",
   "metadata": {},
   "source": [
    "## Listen und Schleifen\n",
    "\n",
    "Bisher haben wir das volle Potential der elekotronischen Datenverarbeitung noch nicht ausschöpfen können. Warum haben wir für die vorherigen Rechnungen nicht einfach einen Taschenrechner benutzt? Nun, die Stärke von Computern ist, dass sie viele Rechnungen wiederholt durch laufen können - mehrere Milliarden Verschiebungen von Bits pro Sekunde. Machen wir also Gebrauch davon und stellen nun einige kompliziertere Rechnungen an.\n",
    "\n",
    "Es gibt verschiedene Arten von Schleifen in Python (zum Beispiel $\\texttt{while}$ oder $\\texttt{for}$). Mit letzerer beschäftigen wir uns gleich.\n",
    "\n",
    "Um eine **for** Schleife zu definieren, müssen wir festlegen _wie oft_ der code in der Schleife ausgeführt werden soll. Dafür können wir uns eine _Variable_ definieren die wir $N$ nennen.\n",
    "Der folgende Code zeigt ein Beispiel wie man mithilfe einer Schleife von 0 bis $N$ zählen kann."
   ]
  },
  {
   "cell_type": "code",
   "execution_count": null,
   "metadata": {},
   "outputs": [],
   "source": [
    "N = 10\n",
    "\n",
    "for nummer in range(N):\n",
    "    \n",
    "    print(\"Ich habe bis\", nummer, \"gezählt.\")"
   ]
  },
  {
   "cell_type": "markdown",
   "metadata": {},
   "source": [
    "Wichtig beim Benutzen von Schleifen in Python ist es, dass der Code, welcher wiederholt ausgeführt werden soll eingerückt wird. Wenn wir das vergessen, erhalten wir eine Fehlermeldung die uns darauf aufmerksam macht.\n",
    "\n",
    "In vorherigen Beispiel habenn wir ausserdem eine Variable mit $\\texttt{range(N)}$ definiert. Diese kommt eine sogenannten list Konzeptuell sehr nahe. Es ist ein Objekt, dass alle natürlichen Zahlen inklusive der Null (in diesem Beispiel) und unterhalb der natürlichen Zahl $N$ enthält. Diese selbst ist hier nicht enthalten.\n",
    "\n",
    "### Listen und Arrays\n",
    "Eine Liste ist eine Art Sammelsorioum von geordneten Einträgen. Wir können uns eine Liste in Python wie eine Art \"Einkaufstasche\" vorstellen. Hier könne wir alles was wir möchten speichern. Wenn wir mit Computern arbeiten möchten wir meistens mehr als nur eine einzige Zahl zwischenspeichern. Listen helfen und dabei, das zu verwirklichen. Allerdings könnten wir prinzipiell noch viel mehr als nur simple Zahlen in einer Liste speichern. Wir sehen das gleich im folgenden Codebeispiel:"
   ]
  },
  {
   "cell_type": "code",
   "execution_count": null,
   "metadata": {},
   "outputs": [],
   "source": [
    "liste_mit_integer = [0, 1, 2, 3, 4, 5, 6, 7, 8, 9] # eine liste die die gleichen Einträge wie die \"range\" im vorherigen Beispiel hat\n",
    "liste_mit_zahlen  = [0, 7, 2.56, 34 + 1, -76.6, pi]\n",
    "kebap_mit_allem   = [\"Pitabrot\", \"Dönerfleisch\", \"Tomate\", \"Gurke\", \"Rotkraut\", \"Mais\", \"Soße\"]\n",
    "\n",
    "print(\"Eine Liste mit ganzzahligen Werten\", liste_mit_integer)\n",
    "print(\"Eine Liste mit Zahlen\", liste_mit_zahlen)\n",
    "print(\"Alles was im Döner drin ist:\", kebap_mit_allem)"
   ]
  },
  {
   "cell_type": "markdown",
   "metadata": {},
   "source": [
    "### Manipulation von Listen\n",
    "Sobald man eine Liste definiert hat, kann man diese auch nachträglich modifizieren. Wir können zum Beispiel eine weitere Zutat an das Ende unserer Liste mit der __append(...)__ Einfügen. So könnten wir beispielsweise bei unserem Kebap noch eine Serviette einfügen indem wir Folgendes ausführen:"
   ]
  },
  {
   "cell_type": "code",
   "execution_count": null,
   "metadata": {},
   "outputs": [],
   "source": [
    "kebap_mit_allem   = [\"Pitabrot\", \"Dönerfleisch\", \"Tomate\", \"Gurke\", \"Rotkraut\", \"Mais\", \"Soße\"]\n",
    "print(kebap_mit_allem)\n",
    "kebap_mit_allem.append(\"Serviette\")\n",
    "print(kebap_mit_allem)"
   ]
  },
  {
   "cell_type": "markdown",
   "metadata": {},
   "source": [
    "Wir sehen, dass im zweiten Durchlauf noch eine Serviette dazugekommen ist. Wunderbar! Nachdem wir uns nun die Finger geputzt haben, können wir sie wieder wegwerfen. Das letzte Element einer Liste können wir mit dem __pop()__ Kommando löschen."
   ]
  },
  {
   "cell_type": "code",
   "execution_count": null,
   "metadata": {},
   "outputs": [],
   "source": [
    "kebap_mit_allem   = [\"Pitabrot\", \"Dönerfleisch\", \"Tomate\", \"Gurke\", \"Rotkraut\", \"Mais\", \"Soße\"]\n",
    "print(kebap_mit_allem)\n",
    "kebap_mit_allem.append(\"Serviette\")\n",
    "print(kebap_mit_allem)\n",
    "kebap_mit_allem.pop()\n",
    "print(kebap_mit_allem)"
   ]
  },
  {
   "cell_type": "markdown",
   "metadata": {},
   "source": [
    "## Übung: Die Quadrate der natürlichen Zahlen\n",
    "\n",
    "Kommen wir nun zurück zu einem eher anwendungsbezogenerem Beispiel. Es ist die Aufgabe zu schauen, wie sich die Quadrate der Natürlichen Zahlen verhalten.\n",
    "\n",
    "Wir wissen bereits wie wir Listen erstellen. Fangen wir also an für die Zahlen von 0 bis 9 deren Quadrate zu berechnen. Die Rechenoperationen dafür haben wir schon vorher kennengelernt."
   ]
  },
  {
   "cell_type": "code",
   "execution_count": null,
   "metadata": {},
   "outputs": [],
   "source": [
    "# Definiere zwei leere Listen, die wir gleich mit Werten befüllen werden\n",
    "zahlen   = []\n",
    "quadrate = []\n",
    "\n",
    "for zahl in range(11):\n",
    "    \n",
    "    zahlen.append(...) # füge der Liste der Zahlen am Ende eine Wert hinzu\n",
    "    quadrat = ... # Berechne das Quadrat der aktuellen Zahl\n",
    "    ... # füge der Liste der Quadrate am Ende einen Wert hinzu\n",
    "\n",
    "print(\"Eine Liste aller Zahlen:\", zahlen)\n",
    "print(\"Eine Liste aller Quadrate:\", quadrate)"
   ]
  },
  {
   "cell_type": "markdown",
   "metadata": {},
   "source": [
    "## Erstellen von Diagrammen\n",
    "Ein wichtiger Bestandteil des wissenschatlichen Arbeitens ist die Visualisierung der Ergebnisse. Hierbei verwenden wir ein _Paket_ mit dem Namen __matplotlib__. Diese stellt einige nützliche Tools für uns bereit, sodass wir unsere Daten einfach darstellen können.\n",
    "Erstellen wir im folgenden also ein Digraamm, basierend auf den Daten vom vorherigen Schritt, der uns die Zahlen und die Quadratzahlen grafisch anzeigt. Der entsprechende Code dafür sieht wie folgt aus:"
   ]
  },
  {
   "cell_type": "code",
   "execution_count": null,
   "metadata": {},
   "outputs": [],
   "source": [
    "import matplotlib.pyplot as plt\n",
    "\n",
    "plt.plot(zahlen, quadrate) # Dieses Kommando erzeugt den Graphen.\n",
    "plt.xlabel(\"Zahlen\") # Dieses Kommando erzeugt die Achsenbeschreibung auf der x-Achse\n",
    "plt.ylabel(\"Quadrate\") # Dieses Kommando erzeugt die Achsenbeschreibung auf der y-Achse\n",
    "plt.show() # Dieses Kommando zeigt das Diagramm."
   ]
  },
  {
   "cell_type": "markdown",
   "metadata": {},
   "source": [
    "### Übung: Das Gravitationsfeld der Erde\n",
    "Eng verküpft mit der Übung die wir gerade gemacht haben ist das Gravitationsfeld der unseres Planeten. Wenn wir die Erde als Punktmasse annehmen, dann ist ihre Anziehungskraft gegeben durch:\n",
    "$$ a \\approx 9.81 \\mathrm{\\frac{m}{s^2}}\\cdot\\frac{r_\\mathrm{Erde}^2}{r^2} $$\n",
    "\n",
    "Wenn wir nun die Abstände zum Zentrum der Erde in Einheiten des Erdradius angeben, können wir diesen einfacherweise auf 1 setzen. Numerisch lautet die Formel dann in Beschleuningungseinheiten von $\\mathrm{m\\, s^{-2}}$:\n",
    "\n",
    "$$ a \\approx \\frac{9.81}{r^2} $$\n",
    "\n",
    "Dieses Verhalten können wir auch Grafisch darstellen in eine Diagramm. Das Programm, welches wir daür benötigen, sieht dabei ganz ähnlich zu dem aus, das wir bereits für die Berechnung der Quadratzahlen entwickelt haben."
   ]
  },
  {
   "cell_type": "code",
   "execution_count": null,
   "metadata": {},
   "outputs": [],
   "source": [
    "from numpy import arange as range\n",
    "\n",
    "distanzen        = []\n",
    "beschleunigungen = []\n",
    "\n",
    "for distanz in range(0.75, 5, 0.01):\n",
    "    \n",
    "    ... # füge eine Distanz an die Liste von distanzen an\n",
    "    \n",
    "    beschleunigung = ...\n",
    "    beschleunigungen.append(...)\n",
    "\n",
    "plt.plot(distanzen, beschleunigungen)\n",
    "plt.xlabel(\"Distanz zum Erdkern in Erdradien\")\n",
    "plt.ylabel(r\"Schwerebeschleunigung in $\\mathrm{m\\, s^{-2}}$\")\n",
    "plt.axhline(9.81, ls=\"dashed\", color='k')\n",
    "plt.show()"
   ]
  },
  {
   "cell_type": "markdown",
   "metadata": {},
   "source": [
    "# Das Konzept der Parallaxen\n",
    "\n",
    "Der Begriff der Parallaxen bezeichnet in erster Line den Winkel under dem ein Objekt in einer gewissen Distanz _verschoben_ zu sein scheint wenn wir es aus zwei verschiedenen Perspektiven beobachtet. Unglücklicherweise geben viele Astronomen diesem Winkel den Namen $\\pi$. Allerdings hat dieser Winkel a priori nicht mit der Kreiszahl und dem Wert 3.14157... zu tun. Das ist ledigleich eine etwas unglückliche Bezeichnung.\n",
    "\n",
    "Wir stellen uns folgendes Szenario vor: Wir beoachten einen unserer Finger am ausgestreckten Arm und halten dabei abwechselnd jeweils eine Auge zu, dann werden wir sehen, wie der Finger vor dem stillen Hintergrund zu springen scheint. Auch das ist hier, wie erwartet, eine Konsquenz des Parallaxeneffekts. Das interessante hierbei, wenn wir den Abstand zwischen den beiden Beobachtungsinstrumenten kennen (in unserem Alltagsbespiel ist das der Augenabstand) und den Winkel berechnen unter dem das Objeckt sich zu bewegen scheint, können wir dessen physische Entfernung bestimmen. Dabei nutzen wir ein wenig trogonometrie am rechwinkligen Dreieck.\n",
    "\n",
    "Kennen wird die Strecke $b$ (_Basislinie_) und den Winkel $\\pi$ (_Parallaxe_), können wir den Abstand $d$ bestimmen mithilfe der folgenden Gleichung:\n",
    "$$ d = \\frac{b}{\\tan\\pi} $$\n",
    "Wenn die Parallaxe besonders klein ist, das heißt ungefähr kleiner als 5°, dann können wir diese Gleichung noch einfacher schreiben als\n",
    "$$ d = \\frac{b}{\\pi [\\mathrm{rad}]} $$\n",
    "wobei die Parallaxen hierbei allerdings in Radiant angegeben sein muss. Alternativ kann man aber auch folgende Formel benutzen, die einen Winkel in Grad angegeben erwartet:\n",
    "$$ d = \\frac{57.3\\cdot b}{\\pi [\\mathrm{deg}]} $$"
   ]
  },
  {
   "cell_type": "markdown",
   "metadata": {},
   "source": [
    "### Zusatz: Die Einheit Parsec\n",
    "Wenn wir die Entfernungen anderer Sterne in Kilometer oder ähnlichen Einheiten angeben wollen, stellen wir schnell fest, dass die Zahlenwerte eher unhandlich sind. Aufgrund der großen Entfernungen ist es daher üblich, dass die Parallaxenwinkel in der Einheit _Millibogensekunde_ angegeben werden. Hierbei ist eine Bogensekunde gleich $\\frac{1}{3600}$ eines Grades. Des weiteren bieten es sich durch die großen Entfernungen an, die resultierenden Distanzen in sogenannten _Parallaxensekunden_ anzugeben.\n",
    "Die Parallaxensekunde als Entfernungsmaß ist dabei so definiert, dass es ein Objekt in dieser Entfernung einen Parallaxenwinkel von genau einer Bogensekunde. Wie groß ist diese Distanz in Meter und Kilometer?"
   ]
  },
  {
   "cell_type": "code",
   "execution_count": null,
   "metadata": {},
   "outputs": [],
   "source": []
  },
  {
   "cell_type": "markdown",
   "metadata": {},
   "source": [
    "### Übung: Die Entferung einiger Sterne\n",
    "Der Astrometriesatellit _Gaia_ der von europäischen Rausfahrtagentur gestartet worden ist, hat die Parallaxen von mehr als einer Milliarde Sterne bestimmen können. Mithilfe dieser Daten können wir auf die Enfernung der Sterne nach dem gleichen Prinzip schließen. Weil GAIA unfgefähr der Erde auf ihrer Umlaufbahn folgt, ist die Basislinie $b$ genau eine Astronomische Einheit lang (also rund 149.5 Millionen Kilometer). Mithilfe der oben gegebenen Formeln, berechne den Abstand der 7 Sterne des großen Wagens.\n",
    "\n",
    "<img src=\"https://en.wikipedia.org/wiki/Big_Dipper#/media/File:Ursa_Major_constellation_detail_map.PNG\" alt=\"Der Grosse Wagen im Sterbild Ursa Major (UMa)\" />\n",
    "\n",
    "Gegeben sind die Parallaxenwinkel der folgenden Sterne\n",
    "\n",
    "---\n",
    "\n",
    "- $\\alpha$ UMa (Dubhe): &nbsp; (26.54 ± 0.48) mas\n",
    "- $\\beta$ UMa (Merak): &nbsp; (40.90 ± 0.16) mas\n",
    "- $\\gamma$ UMa (Phecda): &nbsp; (39.21 ± 0.40) mas\n",
    "- $\\delta$ UMa (Megrez): &nbsp; (40.51 ± 0.15) mas\n",
    "- $\\epsilon$ UMa (Alioth): &nbsp; (39.51 ± 0.20) mas\n",
    "- $\\zeta$ UMa (Mizar): &nbsp; (39.36 ± 0.30) mas\n",
    "- $\\eta$ UMa (Alkaid): &nbsp; (31.38 ± 0.24) mas\n",
    "\n",
    "---\n",
    "\n",
    "Welcher ist der nächste, welcher der am weitesten entfernte Stern dieser 7 Sterne?\n",
    "\n",
    "__Wie weit entfernt ist der (nach der Sonne selbst) nächste Stern?__"
   ]
  },
  {
   "cell_type": "code",
   "execution_count": null,
   "metadata": {},
   "outputs": [],
   "source": [
    "# Eine Liste der Parallaxenwinkel aller Wagensterne\n",
    "parallaxen = [..., ..., ..., ..., ..., ..., ...]\n",
    "\n",
    "# Eine leere Liste, um die Distanzen aller Sterne zu speichern\n",
    "distanzen = []\n",
    "\n",
    "\n",
    "for parallaxe in ...:\n",
    "    \n",
    "    distanz = ... # hier die formel eintragen, die Millibogensekunden in Parsec umwandelt\n",
    "    \n",
    "    distanzen.append(distanz)\n",
    "\n",
    "print(distanzen)"
   ]
  },
  {
   "cell_type": "markdown",
   "metadata": {},
   "source": [
    "## Die Beobachtungsdaten\n",
    "Nun dass wir uns mit der Konzept von Parallaxenwinkeln vertraut gemacht haben, können wir uns den eigentlichen Beobachtungdaten widmen. Auch hier bietet die programmiersprache Python wieder einige Möglichkeiten und diese zu visualisieren.\n",
    "Die ISS wurde wir anfangs erwähnt aus zwei unterscheidlichen Perspektiven beobachtet. Dabei wurden durch zwei Teleskope eine Serie von Bildern aufgenommen. Diese Können wir und auch schnell in diesem Notebook ansehen.\n",
    "\n",
    "Eine entsprechende Prozedur ist dafür in der nächsten Code-Zelle schon geschrieben, die wir nunmerh nur noch ausführen müssen."
   ]
  },
  {
   "cell_type": "code",
   "execution_count": null,
   "metadata": {},
   "outputs": [],
   "source": [
    "# Einstellungen fuer diese Codezelle\n",
    "bildausschnitt_A = 300 # Wie gross ist der Sonnenradius in der ersten Bilderserie (gemessen in Pixeln)?\n",
    "bildausschnitt_B = 600 # Wie gross ist der Sonnenradius in der zweiten Bilderserie (gemessen in Pixeln)?\n",
    "\n",
    "\n",
    "# Importiere einige Pakete die wichtig fuer plotten sind\n",
    "from PIL import Image\n",
    "import numpy as np\n",
    "from glob import glob\n",
    "import matplotlib.pyplot as plt\n",
    "\n",
    "def open_grayscale_image(filename):\n",
    "    \n",
    "    f = Image.open(filename)\n",
    "    img_array = np.array(f)\n",
    "    f.close()\n",
    "    \n",
    "    if img_array.ndim == 3:\n",
    "        img_array = np.mean(img_array, axis=-1)\n",
    "    \n",
    "    return img_array\n",
    "\n",
    "\n",
    "# Die Verzeichnisse, in denen die Bilder abgespeichert worden sind\n",
    "observation_A = \"./rainer_frames/*.jpg\"\n",
    "observation_B = \"./florian_frames/*.jpg\"\n",
    "\n",
    "# lege eine Liste von Bildern an\n",
    "obs_A_bilder = [open_grayscale_image(file) for file in glob(observation_A)]\n",
    "obs_B_bilder = [open_grayscale_image(file) for file in glob(observation_B)]\n",
    "\n",
    "\n",
    "# definiere eine Funktion zum Finden der Bildmitte in den Bildern\n",
    "def finde_bildmitte(bilddaten):\n",
    "    \n",
    "    cumsum_x = np.cumsum(np.mean(bilddaten, axis=1))\n",
    "    cumsum_y = np.cumsum(np.mean(bilddaten, axis=0))\n",
    "    \n",
    "    center_x = np.min(np.ravel(np.argwhere(cumsum_x / cumsum_x.max() >= 0.5)))\n",
    "    center_y = np.min(np.ravel(np.argwhere(cumsum_y / cumsum_y.max() >= 0.5)))\n",
    "    \n",
    "    return (center_x, center_y)\n",
    "    \n",
    "    \n",
    "bildzentren_A = np.array([finde_bildmitte(bild) for bild in obs_A_bilder])\n",
    "bildzentren_B = np.array([finde_bildmitte(bild) for bild in obs_B_bilder])\n",
    "\n",
    "\n",
    "for welches_bild in range(6): # Welches Bild aus der Serie soll gezeigt werden? .. in diesem Fall die ersten sechs\n",
    "    \n",
    "    plt.imshow(obs_A_bilder[welches_bild][\n",
    "        bildzentren_A[welches_bild, 0]-bildausschnitt_A:bildzentren_A[welches_bild, 0]+bildausschnitt_A,\n",
    "        bildzentren_A[welches_bild, 1]-bildausschnitt_A:bildzentren_A[welches_bild, 1]+bildausschnitt_A,\n",
    "        ],\n",
    "        origin=\"lower\", cmap=\"gray\"\n",
    "    )\n",
    "    \n",
    "    plt.title(glob(observation_A)[welches_bild])\n",
    "    plt.xlabel(\"$x$ Pixelkoordinate\")\n",
    "    plt.xlabel(\"$y$ Pixelkoordinate\")\n",
    "    \n",
    "    plt.show()"
   ]
  },
  {
   "cell_type": "markdown",
   "metadata": {},
   "source": [
    "## Inspektion der Bilder\n",
    "In der erten Bilderserie die wir hier sehen, ist auch schon die ISS als sich bewegender Schatten vor der Sonnescheibe zu sehen. Nun ist es an der Zeit, die Position der ISS auf den Bilndern zu jedem Zeitpunkt zu messen. Dafuer ist es wichtig, dass alle Bilder perfekt zueinander ausgerichtet sind. Hier bietet sich das programm FitsWork an, mithilfe welchem man astronomische Beobachtungsdaten auswerten kann. Mithilfe der _Bild an anderes anpassen_ Funktion, können wir nun die Bilder so transformieren, dass die Sonne in allen Bildern gleichermassen ausgerichtet ist. Es wird dann fuer jedes Bild einzeln die Position der ISS experimentell ermittelt und schliesslich die genaue Position des Transitpfades rekonstruiert.\n",
    "\n",
    "### An dieser Stelle ist ein kleines Hands-On Tutorial sinnvoll. In Person ist das einfacher zu besprechen ..."
   ]
  },
  {
   "cell_type": "code",
   "execution_count": null,
   "metadata": {},
   "outputs": [],
   "source": [
    "# Bilderserie A:\n",
    "position_x_A = [...] # eine Liste von allen x-Positionen der ISS in Pixelkoordinaten in der ersten Bilderserie\n",
    "position_y_A = [...] # eine Liste von allen y-Positionen der ISS in Pixelkoordinaten in der ersten Bilderserie\n",
    "\n",
    "# Bilderserie B:\n",
    "position_x_B = [...] # eine Liste von allen x-Positionen der ISS in Pixelkoordinaten in der ersten Bilderserie\n",
    "position_y_B = [...] # eine Liste von allen y-Positionen der ISS in Pixelkoordinaten in der ersten Bilderserie\n",
    "\n",
    "\n",
    "def finde_regressionsgerade(x, y):\n",
    "    \"\"\"\n",
    "    Diese Funktion findet die Geradengleichung, die die Gesamtheit aller Punkte am Besten beschreibt.\"\"\"\n",
    "    \n",
    "    n = len(x)\n",
    "    mean_x = np.mean(x)\n",
    "    mean_y = np.mean(y)\n",
    "    \n",
    "    theta1 = (np.sum(x * y) - n * mean_x * mean_y) / (np.sum(x**2) - n * mean_x**2)\n",
    "    theta0 = mean_y - theta1\n",
    "    \n",
    "    return (theta0, theta1)\n",
    "\n",
    "geradenparameter_A = finde_regressionsgerade(position_x_A, position_y_A)\n",
    "geradenparameter_B = finde_regressionsgerade(position_x_B, position_y_B)\n",
    "\n",
    "plt.plot(position_x_A, geradenparameter_A[0] + position_x_A * geradenparameter_A[1], color=\"tab:red\", label=\"Modell A\")\n",
    "plt.plot(position_x_B, geradenparameter_B[0] + position_x_B * geradenparameter_B[1], color=\"tab:blue\", label=\"Modell B\")\n",
    "\n",
    "plt.scatter(position_x_A, position_y_A, color=\"tab:red\", label=\"Beobachtungsdaten A\")\n",
    "plt.scatter(position_x_B, position_y_B, color=\"tab:blue\", label=\"Beobachtungsdaten B\")\n",
    "\n",
    "plt.grid(True, ls=\"dashed\", color=\"gray\")\n",
    "plt.legend()\n",
    "\n",
    "plt.xlabel(\"x-Position der ISS\")\n",
    "plt.ylabel(\"y-Position der ISS\")\n",
    "\n",
    "plt.show()\n",
    "\n",
    "print(\"Die lineare Funktion des ersten Datensatzes besitzt folgende Parameter:\\n\\t\", \"Steigung m_A =\", geradenparameter_A[1], \"\\n\\ty-Achsenabschnitt n_A =\", geradenparameter_A[0])\n",
    "print(\"\\n\")\n",
    "print(\"Die lineare Funktion des zweiten Datensatzes besitzt folgende Parameter:\\n\\t\", \"Steigung m_B =\", geradenparameter_B[1], \"\\n\\ty-Achsenabschnitt n_B =\", geradenparameter_B[0])\n",
    "\n",
    "n_A, m_A = geradenparameter_A\n",
    "n_B, m_B = geradenparameter_B"
   ]
  },
  {
   "cell_type": "markdown",
   "metadata": {},
   "source": [
    "Wenn alles stimmt, dass sollten in dem vorherigen Diagramm nun zwei Linien mit ein einigen Datenpunkten drum herum erscheinen. Zudem sollten beide Linien _parallel_ zueinander stehen. Wenn das nicht der Fall sein, sollte ist unterwegs etwas schief gelaufen.\n",
    "\n",
    "- Sind die x und y Werte richtig zugeordnet und nicht vertauscht?\n",
    "- Gibt es Zahlendreher beim Uebertragen der Daten in dises Skript?\n",
    "- ...\n",
    "\n",
    "Wenn beide Geraden annähernd parallel sind, dann könenn wir fortfahren und deren Abstand bestimmen.\n",
    "\n",
    "Beide Funktionen besitzen Geradengleichungen der Form\n",
    "\n",
    "$$\n",
    "f\\left(x\\right)=mx+n\n",
    "$$\n",
    "\n",
    "Da wir es mit zwei dieser Funktionen zu tun haben, haben wir im vorherigen Schritt auch zwei Saetze von diesen Paramteren bestimmen können. Für den Datensatz A, kennen wir nun $m_\\text{A},n_\\text{A}$ und $m_\\text{B},n_\\text{B}$. Der Abstand zwischen diesen zwei parallen Linien lässt sich bestimmen mithilfe der Gleichung:\n",
    "\n",
    "$$\n",
    "d=\\frac{2\\left(m_{\\text{A}}+m_{\\text{B}}\\right)\\left(n_{\\text{A}}-n_{\\text{B}}\\right)}{\\sqrt{1+\\left(m_{\\text{A}}+m_{\\text{B}}\\right)^{2}}}\n",
    "$$\n",
    "\n",
    "In der folgenden Zelle, kann dieser Abstand berechnet werden."
   ]
  },
  {
   "cell_type": "code",
   "execution_count": null,
   "metadata": {},
   "outputs": [],
   "source": [
    "# Bestimme den Zähler und Nenner des obigen Bruchs rechnerisch\n",
    "\n",
    "zaehler = ...\n",
    "nenner  = (1. + (m_A + m_B)**2.)**0.5\n",
    "\n",
    "abstand = zaehler / nenner\n",
    "\n",
    "print(\"Der Abstand beider Geraden ist gleich\", abstand, \"Pixel.\")"
   ]
  },
  {
   "cell_type": "markdown",
   "metadata": {},
   "source": [
    "---\n",
    "# Ab hier beginnt der noch unfertige Bereich dieses Notebooks ..."
   ]
  },
  {
   "cell_type": "markdown",
   "metadata": {},
   "source": [
    "# Summary of the observations\n",
    "\n",
    "- Florian and Rainer stood a couple of meters apart both observing the ISS transit\n",
    "- Rainer used a 100m APO on an AltAz mount along with as EOS700D camera\n",
    "- Florian used the C8 Cassegrain telescope along with an EOS750D camera\n",
    "\n",
    "The following parameters are important for the analysis later as calculated for the midpoint between both observation sites:\n",
    "\n",
    "\n",
    "Fri 2023-08-18, 12:03:52.73  •  Sun transit\n",
    "ISS angular size: 49.70″; distance: 555.98 km\n",
    "Angular separation: 4.0′; azimuth: 154.5°; altitude: 48.4°\n",
    "Center line distance: 0.80 km; visibility path width: 6.23 km\n",
    "Transit duration: 0.74 s; transit chord length: 30.6′\n",
    "\n",
    "R.A.: 09h 50m; Dec: +13° 10′; parallactic angle: 15.4°\n",
    "ISS velocity: 41.6 ′/s (angular); 6.73 km/s (transverse)\n",
    "ISS velocity: 3.06 km/s (radial); 7.39 km/s (total);\n",
    "Direction of motion relative to zenith: 124.8°\n",
    "Sun angular size: 31.6′; 38.2 times larger than the ISS\n",
    "\n",
    "## Video facts:\n",
    "Rainer' Video:\n",
    "The ISS passage starts at roughly 02:08\n",
    "\n",
    "Florian's Video:\n",
    "The ISS passage starts at roughly 01:09"
   ]
  },
  {
   "cell_type": "code",
   "execution_count": null,
   "metadata": {},
   "outputs": [],
   "source": [
    "## Convert the video files into single, stckable images\n",
    "import cv2\n",
    "import os\n",
    "\n",
    "def extract_frames(video_path, output_folder):\n",
    "    # Open the video file\n",
    "    cap = cv2.VideoCapture(video_path)\n",
    "    \n",
    "    # Check if the video file was opened successfully\n",
    "    if not cap.isOpened():\n",
    "        print(\"Error: Could not open video file\")\n",
    "        return\n",
    "    \n",
    "    # Create the output folder if it doesn't exist\n",
    "    if not os.path.exists(output_folder):\n",
    "        os.makedirs(output_folder)\n",
    "    \n",
    "    frame_count = 0\n",
    "    \n",
    "    while True:\n",
    "        # Read a frame from the video\n",
    "        ret, frame = cap.read()\n",
    "        \n",
    "        # Break the loop if we have reached the end of the video\n",
    "        if not ret:\n",
    "            break\n",
    "        \n",
    "        # Save the frame as an image\n",
    "        frame_filename = os.path.join(output_folder, f\"frame_{frame_count:04d}.jpg\")\n",
    "        cv2.imwrite(frame_filename, frame)\n",
    "        \n",
    "        frame_count += 1\n",
    "    \n",
    "    # Release the video capture object\n",
    "    cap.release()\n",
    "    \n",
    "    print(f\"{frame_count} frames extracted and saved in {output_folder}\")\n",
    "\n",
    "\n",
    "video_path = \"rainer_crop.mp4\"  # Replace with your input video file\n",
    "output_folder = \"rainer_frames\"  # Replace with the desired output folder name\n",
    "\n",
    "extract_frames(video_path, output_folder)"
   ]
  },
  {
   "cell_type": "markdown",
   "metadata": {},
   "source": [
    "# Align all the images (using the pillow package)"
   ]
  },
  {
   "cell_type": "code",
   "execution_count": null,
   "metadata": {},
   "outputs": [],
   "source": [
    "import cv2\n",
    "import numpy as np\n",
    "from glob import glob\n",
    "from tqdm import tqdm\n",
    "\n",
    "in_image  = \"rainer_frames/\"\n",
    "reference = \"rainer_frames/frame_0029.jpg\"\n",
    "\n",
    "counter = 0\n",
    "for image in tqdm(glob(in_image + \"*.jpg\")):\n",
    "    # Open the image files.\n",
    "    img1_color = cv2.imread(image) # Image to be aligned.\n",
    "    img2_color = cv2.imread(reference) # Reference image.\n",
    "    \n",
    "    # Convert to grayscale.\n",
    "    img1 = cv2.cvtColor(img1_color, cv2.COLOR_BGR2GRAY)\n",
    "    img2 = cv2.cvtColor(img2_color, cv2.COLOR_BGR2GRAY)\n",
    "    height, width = img2.shape\n",
    "    \n",
    "    # Create ORB detector with 5000 features.\n",
    "    orb_detector = cv2.ORB_create(5000)\n",
    "    \n",
    "    # Find keypoints and descriptors.\n",
    "    # The first arg is the image, second arg is the mask\n",
    "    # (which is not required in this case).\n",
    "    kp1, d1 = orb_detector.detectAndCompute(img1, None)\n",
    "    kp2, d2 = orb_detector.detectAndCompute(img2, None)\n",
    "    \n",
    "    # Match features between the two images.\n",
    "    # We create a Brute Force matcher with\n",
    "    # Hamming distance as measurement mode.\n",
    "    matcher = cv2.BFMatcher(cv2.NORM_HAMMING, crossCheck = True)\n",
    "    \n",
    "    # Match the two sets of descriptors.\n",
    "    matches = matcher.match(d1, d2)\n",
    "    \n",
    "    # Sort matches on the basis of their Hamming distance.\n",
    "    matches = list(matches)\n",
    "    matches.sort(key = lambda x: x.distance)\n",
    "    \n",
    "    # Take the top 90 % matches forward.\n",
    "    matches = matches[:int(len(matches)*0.9)]\n",
    "    no_of_matches = len(matches)\n",
    "    \n",
    "    # Define empty matrices of shape no_of_matches * 2.\n",
    "    p1 = np.zeros((no_of_matches, 2))\n",
    "    p2 = np.zeros((no_of_matches, 2))\n",
    "    \n",
    "    for i in range(len(matches)):\n",
    "        p1[i, :] = kp1[matches[i].queryIdx].pt\n",
    "        p2[i, :] = kp2[matches[i].trainIdx].pt\n",
    "    \n",
    "    # Find the homography matrix.\n",
    "    homography, mask = cv2.findHomography(p1, p2, cv2.RANSAC)\n",
    "    \n",
    "    # Use this matrix to transform the\n",
    "    # colored image wrt the reference image.\n",
    "    transformed_img = cv2.warpPerspective(img1_color,\n",
    "    \t\t\t\t\thomography, (width, height))\n",
    "    \n",
    "    # Save the output.\n",
    "    cv2.imwrite(in_image + \"%i_align.jpg\" % counter, transformed_img)\n",
    "    counter += 1\n",
    "    #cv2.imwrite(in_image[:-4] + \"_align.jpg\", transformed_img)\n"
   ]
  },
  {
   "cell_type": "markdown",
   "metadata": {},
   "source": [
    "## Use numpy image stabilization routines"
   ]
  },
  {
   "cell_type": "code",
   "execution_count": null,
   "metadata": {},
   "outputs": [],
   "source": [
    "import numpy as np\n",
    "import cv2\n",
    "from glob import glob\n",
    "from tqdm import tqdm\n",
    "import matplotlib.pyplot as plt\n",
    "\n",
    "def find_offset(ref_image, comp_image, box_size=10):\n",
    "    \n",
    "    ref_shape = ref_image.shape\n",
    "    \n",
    "    if len(ref_image.shape) > 2:\n",
    "        raise Exception(\"[ERROR] Dimension of image too high. Please only use two-dimensional image arrays.\")\n",
    "    \n",
    "    x, y = np.meshgrid(np.arange(-box_size, box_size), np.arange(-box_size, box_size))\n",
    "    x = np.ravel(x)\n",
    "    y = np.ravel(y)\n",
    "    \n",
    "    correlation = []\n",
    "    \n",
    "    aligned_image = np.zeros(ref_shape)\n",
    "    maxcorr = 0.\n",
    "    for dx, dy in zip(x, y):\n",
    "        corr_array = np.zeros((2 * box_size + ref_shape[0], 2 * box_size + ref_shape[1]))\n",
    "        corr_array[box_size:box_size+ref_shape[0], box_size:box_size+ref_shape[1]] = ref_image\n",
    "        corr_array[box_size + dx:box_size + dx + ref_shape[0], box_size + dy:box_size + dy + ref_shape[1]] *= comp_image\n",
    "        \n",
    "        if maxcorr < np.sum(corr_array):\n",
    "            aligned_image = np.zeros((2 * box_size + ref_shape[0], 2 * box_size + ref_shape[1]))\n",
    "            aligned_image[box_size + dx:box_size + dx + ref_shape[0], box_size + dy:box_size + dy + ref_shape[1]] = comp_image\n",
    "            aligned_image = aligned_image[box_size:-box_size, box_size:-box_size]\n",
    "    \n",
    "    return aligned_image\n",
    "\n",
    "\n",
    "all_images = glob(\"florian_frames/*.jpg\")\n",
    "#all_images = glob(\"rainer_frames/*.jpg\")\n",
    "all_data = [np.array(cv2.imread(image)) for image in all_images]\n",
    "all_data = np.transpose(all_data, axes=[3,0,1,2])\n",
    "print(all_data.shape)\n",
    "plt.imshow(np.min(all_data[0, :, :, :], axis=0))\n",
    "plt.show()\n",
    "\n",
    "all_data_aligned = [all_data[1, 0]]\n",
    "\n",
    "for i in tqdm(range(all_data.shape[1])[1:]):\n",
    "    all_data_aligned.append(find_offset(all_data[0, 0], all_data[0, -1]))\n",
    "\n",
    "all_data_aligned = np.array(all_data_aligned)"
   ]
  },
  {
   "cell_type": "code",
   "execution_count": null,
   "metadata": {},
   "outputs": [],
   "source": [
    "plt.imshow(np.min(all_data_aligned, axis=0))\n",
    "plt.show()"
   ]
  }
 ],
 "metadata": {
  "kernelspec": {
   "display_name": "Python 3 (ipykernel)",
   "language": "python",
   "name": "python3"
  },
  "language_info": {
   "codemirror_mode": {
    "name": "ipython",
    "version": 3
   },
   "file_extension": ".py",
   "mimetype": "text/x-python",
   "name": "python",
   "nbconvert_exporter": "python",
   "pygments_lexer": "ipython3",
   "version": "3.8.7"
  }
 },
 "nbformat": 4,
 "nbformat_minor": 4
}
